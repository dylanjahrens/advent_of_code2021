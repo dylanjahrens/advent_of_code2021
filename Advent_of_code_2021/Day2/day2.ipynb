{
 "cells": [
  {
   "cell_type": "code",
   "execution_count": 35,
   "metadata": {},
   "outputs": [],
   "source": [
    "with open(\"day2_input.txt\", \"r\") as input_file:\n",
    "    file_lines = input_file.readlines()\n",
    "    input_list = [line.strip() for line in file_lines]\n",
    "    \n",
    "split_list = []\n",
    "for x in input_list:\n",
    "    data = x.split(' ')\n",
    "    split_list.append(data)\n",
    "    \n",
    "def day2_1():\n",
    "    \n",
    "    horizontal = 0\n",
    "    depth = 0\n",
    "        \n",
    "    for inp in split_list:\n",
    "        if inp[0] == 'up':\n",
    "            depth -= int(inp[1])\n",
    "        elif inp[0] == 'down':\n",
    "            depth += int(inp[1])\n",
    "        else:\n",
    "            horizontal += int(inp[1])\n",
    "    \n",
    "    return horizontal * depth\n",
    "\n",
    "\n",
    "def day2_2():\n",
    "    \n",
    "    aim = 0\n",
    "    horizontal = 0\n",
    "    depth = 0\n",
    "    \n",
    "    for inp in split_list:\n",
    "        if inp[0] == 'up':\n",
    "            aim -= int(inp[1])\n",
    "        elif inp[0] == 'down':\n",
    "            aim += int(inp[1])\n",
    "        else:\n",
    "            horizontal += int(inp[1])\n",
    "            depth += aim * int(inp[1])\n",
    "    \n",
    "    return horizontal * depth\n",
    "    \n",
    "            \n",
    "            \n",
    "\n"
   ]
  },
  {
   "cell_type": "code",
   "execution_count": 36,
   "metadata": {},
   "outputs": [
    {
     "data": {
      "text/plain": [
       "1250395"
      ]
     },
     "execution_count": 36,
     "metadata": {},
     "output_type": "execute_result"
    }
   ],
   "source": [
    "day2_1()"
   ]
  },
  {
   "cell_type": "code",
   "execution_count": 37,
   "metadata": {},
   "outputs": [
    {
     "data": {
      "text/plain": [
       "1451210346"
      ]
     },
     "execution_count": 37,
     "metadata": {},
     "output_type": "execute_result"
    }
   ],
   "source": [
    "day2_2()"
   ]
  },
  {
   "cell_type": "code",
   "execution_count": null,
   "metadata": {},
   "outputs": [],
   "source": []
  }
 ],
 "metadata": {
  "kernelspec": {
   "display_name": "Python 3",
   "language": "python",
   "name": "python3"
  },
  "language_info": {
   "codemirror_mode": {
    "name": "ipython",
    "version": 3
   },
   "file_extension": ".py",
   "mimetype": "text/x-python",
   "name": "python",
   "nbconvert_exporter": "python",
   "pygments_lexer": "ipython3",
   "version": "3.8.2"
  }
 },
 "nbformat": 4,
 "nbformat_minor": 4
}
