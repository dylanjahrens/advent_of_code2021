{
 "cells": [
  {
   "cell_type": "code",
   "execution_count": 22,
   "metadata": {},
   "outputs": [],
   "source": [
    "with open(\"day1_input.txt\", \"r\") as input_file:\n",
    "    file_lines = input_file.readlines()\n",
    "    input_list = [int(line.strip()) for line in file_lines] #int we are working with numbers\n",
    "\n",
    "def day1_1():\n",
    "\n",
    "    counter = 0\n",
    "    \n",
    "    for i, meas in enumerate(input_list):\n",
    "        if i > 0:\n",
    "            if meas > input_list[i-1]:\n",
    "                counter +=1\n",
    "    return counter\n",
    "\n",
    "\n",
    "def day1_2():\n",
    "    \n",
    "    counter = 0\n",
    "    \n",
    "    for i, meas in enumerate(input_list):\n",
    "        if i < len(input_list) - 3:\n",
    "            a = input_list[i] + input_list[i+1] + input_list[i+2]\n",
    "            b = input_list[i+1] + input_list[i+2] + input_list[i+3]\n",
    "            if b > a:\n",
    "                counter +=1\n",
    "    return counter\n",
    "                \n",
    "        \n",
    "            "
   ]
  },
  {
   "cell_type": "code",
   "execution_count": 23,
   "metadata": {},
   "outputs": [
    {
     "data": {
      "text/plain": [
       "1521"
      ]
     },
     "execution_count": 23,
     "metadata": {},
     "output_type": "execute_result"
    }
   ],
   "source": [
    "day1_1()"
   ]
  },
  {
   "cell_type": "code",
   "execution_count": 24,
   "metadata": {},
   "outputs": [
    {
     "data": {
      "text/plain": [
       "1543"
      ]
     },
     "execution_count": 24,
     "metadata": {},
     "output_type": "execute_result"
    }
   ],
   "source": [
    "day1_2()"
   ]
  },
  {
   "cell_type": "code",
   "execution_count": null,
   "metadata": {},
   "outputs": [],
   "source": []
  },
  {
   "cell_type": "code",
   "execution_count": null,
   "metadata": {},
   "outputs": [],
   "source": []
  }
 ],
 "metadata": {
  "kernelspec": {
   "display_name": "Python 3",
   "language": "python",
   "name": "python3"
  },
  "language_info": {
   "codemirror_mode": {
    "name": "ipython",
    "version": 3
   },
   "file_extension": ".py",
   "mimetype": "text/x-python",
   "name": "python",
   "nbconvert_exporter": "python",
   "pygments_lexer": "ipython3",
   "version": "3.8.2"
  }
 },
 "nbformat": 4,
 "nbformat_minor": 4
}
