{
 "cells": [
  {
   "cell_type": "code",
   "execution_count": 34,
   "metadata": {},
   "outputs": [
    {
     "name": "stdout",
     "output_type": "stream",
     "text": [
      "['26', '55', '7', '40', '56', '34', '58', '90', '60', '83', '37', '36', '9', '27', '42', '19', '46', '18', '49', '52', '75', '17', '70', '41', '12', '78', '15', '64', '50', '54', '2', '77', '76', '10', '43', '79', '22', '32', '47', '0', '72', '30', '21', '82', '6', '95', '13', '59', '16', '89', '1', '85', '57', '62', '81', '38', '29', '80', '8', '67', '20', '53', '69', '25', '23', '61', '86', '71', '68', '98', '35', '31', '4', '33', '91', '74', '14', '28', '65', '24', '97', '88', '3', '39', '11', '93', '66', '44', '45', '96', '92', '51', '63', '84', '73', '99', '94', '87', '5', '48']\n"
     ]
    }
   ],
   "source": [
    "#Parsing data\n",
    "with open(\"day4_input.txt\", \"r\") as input_file:\n",
    "    file_lines = input_file.readlines()\n",
    "    input_list = [line.strip() for line in file_lines]\n",
    "    input_list.append('')\n",
    "\n",
    "grid_list = []\n",
    "index = 0\n",
    "for i, string in enumerate(input_list):\n",
    "    if string == '':\n",
    "        grid_list.append(input_list[index:i])\n",
    "        index = i+1\n",
    "\n",
    "bingo_numbers = grid_list[0][0]\n",
    "bingo_balls = bingo_numbers.split(',')\n",
    "print(bingo_balls)\n",
    "\n",
    "bingo_cards = grid_list[1:]\n",
    "bingo_grid = [] \n",
    "\n",
    "for card in bingo_cards:\n",
    "    card_grid = []\n",
    "    for line in card:\n",
    "        line = line.split(' ')\n",
    "        for char in line:\n",
    "            if len(char) < 1:\n",
    "                line.remove(char)\n",
    "        card_grid.append(line)\n",
    "    bingo_grid.append(card_grid)\n",
    "    card_grid = []\n",
    "        \n",
    "def win(card,ball):\n",
    "    board_sum = 0\n",
    "    for line in card:\n",
    "        for num in line:\n",
    "            if num != '#':\n",
    "                board_sum += int(num)\n",
    "    print(board_sum * int(ball))\n",
    "        \n",
    "def day4_1():\n",
    "\n",
    "    for ball in bingo_balls:\n",
    "        for card in bingo_grid:\n",
    "            for line in card:\n",
    "                for i, number in enumerate(line):\n",
    "                    if number == ball:\n",
    "                        line.remove(number)\n",
    "                        line.insert(i, '#')\n",
    "                    \n",
    "                #across win check\n",
    "                if line == ['#', '#', '#', '#', '#']:\n",
    "                    return win(card,ball) #calling win function\n",
    "                \n",
    "            #down win check\n",
    "            i = 0\n",
    "            while i < 5:\n",
    "                if card[0][i] == card[1][i] == card[2][i] == card[3][i] == card[4][i] == '#':\n",
    "                    return win(card,ball)         \n",
    "                else:\n",
    "                    i+=1\n",
    "                    \n",
    "def day4_2():\n",
    "    for ball in bingo_balls:\n",
    "        for card in bingo_grid:\n",
    "#final grid check -------------------------------------------------------------------\n",
    "            if len(bingo_grid) == 1:\n",
    "                for line in card:\n",
    "                    for i, number in enumerate(line):\n",
    "                        if number == ball:\n",
    "                            line.remove(number)\n",
    "                            line.insert(i, '#')\n",
    "\n",
    "                    #across win check\n",
    "                    if line == ['#', '#', '#', '#', '#']:\n",
    "                        return win(card, ball)\n",
    "\n",
    "                #down win check\n",
    "                i = 0\n",
    "                while i < 5:\n",
    "                    if card[0][i] == card[1][i] == card[2][i] == card[3][i] == card[4][i] == '#':\n",
    "                        return win(card, ball)\n",
    "                    else:\n",
    "                        i+=1\n",
    "#end of last grid check------------------------------------------------------------------\n",
    "                \n",
    "            for line in card:\n",
    "                for i, number in enumerate(line):\n",
    "                    if number == ball:\n",
    "                        line.remove(number)\n",
    "                        line.insert(i, '#')\n",
    "\n",
    "                #across winner eliminator\n",
    "                if line == ['#', '#', '#', '#', '#']:\n",
    "                    bingo_grid = [c for c in bingo_grid if c != card]\n",
    "\n",
    "            #down winner eliminator\n",
    "            i = 0\n",
    "            while i < 5:\n",
    "                if card[0][i] == card[1][i] == card[2][i] == card[3][i] == card[4][i] == '#':\n",
    "                    bingo_grid = [c for c in bingo_grid if c != card]\n",
    "                    break\n",
    "\n",
    "                else:\n",
    "                    i+=1\n"
   ]
  },
  {
   "cell_type": "code",
   "execution_count": 35,
   "metadata": {},
   "outputs": [
    {
     "name": "stdout",
     "output_type": "stream",
     "text": [
      "35670\n"
     ]
    }
   ],
   "source": [
    "day4_1()"
   ]
  },
  {
   "cell_type": "code",
   "execution_count": 36,
   "metadata": {},
   "outputs": [
    {
     "ename": "UnboundLocalError",
     "evalue": "local variable 'bingo_grid' referenced before assignment",
     "output_type": "error",
     "traceback": [
      "\u001b[0;31m---------------------------------------------------------------------------\u001b[0m",
      "\u001b[0;31mUnboundLocalError\u001b[0m                         Traceback (most recent call last)",
      "\u001b[0;32m<ipython-input-36-630a48269a19>\u001b[0m in \u001b[0;36m<module>\u001b[0;34m\u001b[0m\n\u001b[0;32m----> 1\u001b[0;31m \u001b[0mday4_2\u001b[0m\u001b[0;34m(\u001b[0m\u001b[0;34m)\u001b[0m\u001b[0;34m\u001b[0m\u001b[0;34m\u001b[0m\u001b[0m\n\u001b[0m",
      "\u001b[0;32m<ipython-input-34-625fd5a47fc7>\u001b[0m in \u001b[0;36mday4_2\u001b[0;34m()\u001b[0m\n\u001b[1;32m     62\u001b[0m \u001b[0;32mdef\u001b[0m \u001b[0mday4_2\u001b[0m\u001b[0;34m(\u001b[0m\u001b[0;34m)\u001b[0m\u001b[0;34m:\u001b[0m\u001b[0;34m\u001b[0m\u001b[0;34m\u001b[0m\u001b[0m\n\u001b[1;32m     63\u001b[0m     \u001b[0;32mfor\u001b[0m \u001b[0mball\u001b[0m \u001b[0;32min\u001b[0m \u001b[0mbingo_balls\u001b[0m\u001b[0;34m:\u001b[0m\u001b[0;34m\u001b[0m\u001b[0;34m\u001b[0m\u001b[0m\n\u001b[0;32m---> 64\u001b[0;31m         \u001b[0;32mfor\u001b[0m \u001b[0mcard\u001b[0m \u001b[0;32min\u001b[0m \u001b[0mbingo_grid\u001b[0m\u001b[0;34m:\u001b[0m\u001b[0;34m\u001b[0m\u001b[0;34m\u001b[0m\u001b[0m\n\u001b[0m\u001b[1;32m     65\u001b[0m \u001b[0;31m#final grid check -------------------------------------------------------------------\u001b[0m\u001b[0;34m\u001b[0m\u001b[0;34m\u001b[0m\u001b[0;34m\u001b[0m\u001b[0m\n\u001b[1;32m     66\u001b[0m             \u001b[0;32mif\u001b[0m \u001b[0mlen\u001b[0m\u001b[0;34m(\u001b[0m\u001b[0mbingo_grid\u001b[0m\u001b[0;34m)\u001b[0m \u001b[0;34m==\u001b[0m \u001b[0;36m1\u001b[0m\u001b[0;34m:\u001b[0m\u001b[0;34m\u001b[0m\u001b[0;34m\u001b[0m\u001b[0m\n",
      "\u001b[0;31mUnboundLocalError\u001b[0m: local variable 'bingo_grid' referenced before assignment"
     ]
    }
   ],
   "source": [
    "day4_2()"
   ]
  },
  {
   "cell_type": "code",
   "execution_count": null,
   "metadata": {},
   "outputs": [],
   "source": []
  }
 ],
 "metadata": {
  "kernelspec": {
   "display_name": "Python 3",
   "language": "python",
   "name": "python3"
  },
  "language_info": {
   "codemirror_mode": {
    "name": "ipython",
    "version": 3
   },
   "file_extension": ".py",
   "mimetype": "text/x-python",
   "name": "python",
   "nbconvert_exporter": "python",
   "pygments_lexer": "ipython3",
   "version": "3.8.2"
  }
 },
 "nbformat": 4,
 "nbformat_minor": 4
}
