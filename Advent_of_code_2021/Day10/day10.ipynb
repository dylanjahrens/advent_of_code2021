{
 "cells": [
  {
   "cell_type": "code",
   "execution_count": 101,
   "metadata": {},
   "outputs": [],
   "source": [
    "import math\n",
    "\n",
    "with open(\"day10_input.txt\", \"r\") as input_file:\n",
    "    file_lines = input_file.readlines()\n",
    "    inp = [line.strip() for line in file_lines]\n",
    "\n",
    "test = ['[({(<(())[]>[[{[]{<()<>>', '[(()[<>])]({[<{<<[]>>(', '{([(<{}[<>[]}>{[]{[(<()>',\n",
    "    '(((({<>}<{<{<>}{[]{[]{}', '[[<[([]))<([[{}[[()]]]', '[{[{({}]{}}([{[{{{}}([]',\n",
    "    '{<[[]]>}<{[{[{[]{()[[[]', '[<(<(<(<{}))><([]([]()', '<{([([[(<>()){}]>(<<{{',\n",
    "    '<{([{{}}[<[[[<>{}]]]>[]]']\n",
    "\n",
    "    \n",
    "def day10(data):\n",
    "    \n",
    "    #p1\n",
    "    corrupted = []\n",
    "    corrupted_lines = []\n",
    "    points = 0\n",
    "    \n",
    "    stack = []\n",
    "    D = {')':'(', ']':'[', '}':'{', '>':'<'}\n",
    "    \n",
    "    for line in data:\n",
    "        for c in line:\n",
    "            if c in D:\n",
    "                if len(stack) !=0 and stack[-1] == D[c]:\n",
    "                    stack.pop()\n",
    "                else:\n",
    "                    corrupted.append(c)\n",
    "                    corrupted_lines.append(line)\n",
    "                    break # goes to next line once corrupted char is found\n",
    "            else:\n",
    "                stack.append(c)\n",
    "    \n",
    "    for char in corrupted:\n",
    "        if char == ')':\n",
    "            points += 3\n",
    "        elif char == ']':\n",
    "            points += 57\n",
    "        elif char == '}':\n",
    "            points += 1197\n",
    "        elif char == '>':\n",
    "            points += 25137\n",
    "    \n",
    "    print(f'p1: {points}')\n",
    "    \n",
    "    #p2\n",
    "    incomplete = [x for x in data if x not in corrupted_lines]\n",
    "    D2 = {'(':1, '[':2, '{':3, '<':4}\n",
    "    scores = []\n",
    "    \n",
    "    for line in incomplete:\n",
    "        stk = []\n",
    "        for c in line:\n",
    "            if c in D:\n",
    "                if len(stk) !=0 and stk[-1] == D[c]:\n",
    "                    stk.pop()\n",
    "            else:\n",
    "                stk.append(c)\n",
    "        stk.reverse()\n",
    "        score = 0\n",
    "        for c in stk:\n",
    "            score *=5\n",
    "            score += D2[c]\n",
    "        scores.append(score)\n",
    "    \n",
    "    scores.sort()\n",
    "    middle = math.floor(len(scores)/2)\n",
    "    print(f'p2: {scores[middle]}')\n",
    "        \n",
    "            \n",
    "\n",
    "            \n",
    "                \n",
    "                \n",
    "            \n"
   ]
  },
  {
   "cell_type": "code",
   "execution_count": 102,
   "metadata": {},
   "outputs": [
    {
     "name": "stdout",
     "output_type": "stream",
     "text": [
      "p1: 392421\n",
      "p2: 2769449099\n"
     ]
    }
   ],
   "source": [
    "day10(inp)"
   ]
  },
  {
   "cell_type": "code",
   "execution_count": null,
   "metadata": {},
   "outputs": [],
   "source": []
  },
  {
   "cell_type": "code",
   "execution_count": null,
   "metadata": {},
   "outputs": [],
   "source": []
  }
 ],
 "metadata": {
  "kernelspec": {
   "display_name": "Python 3",
   "language": "python",
   "name": "python3"
  },
  "language_info": {
   "codemirror_mode": {
    "name": "ipython",
    "version": 3
   },
   "file_extension": ".py",
   "mimetype": "text/x-python",
   "name": "python",
   "nbconvert_exporter": "python",
   "pygments_lexer": "ipython3",
   "version": "3.8.2"
  }
 },
 "nbformat": 4,
 "nbformat_minor": 4
}
