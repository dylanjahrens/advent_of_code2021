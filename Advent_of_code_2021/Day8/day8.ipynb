{
 "cells": [
  {
   "cell_type": "code",
   "execution_count": 13,
   "metadata": {},
   "outputs": [],
   "source": [
    "with open(\"day8_input.txt\", \"r\") as input_file:\n",
    "    file_lines = input_file.readlines()\n",
    "    input_list = [data.split() for data in file_lines]\n",
    "            \n",
    "inputs = []\n",
    "outputs = []\n",
    "for l in input_list:\n",
    "    line = []\n",
    "    for s in l:\n",
    "        if s.isalnum():\n",
    "            line.append(s)\n",
    "        else:\n",
    "            inputs.append(line)\n",
    "            line = []\n",
    "    outputs.append(line)\n",
    "    \n",
    "def p1():\n",
    "    instances = 0\n",
    "    digits = [2,4,3,7]\n",
    "    \n",
    "    for l in outputs:\n",
    "        for s in l:\n",
    "            if len(s) in digits:\n",
    "                instances +=1\n",
    "    return instances\n",
    "\n",
    "    \n",
    "    \n",
    "def p2():\n",
    "    \n",
    "    total_value = 0\n",
    "    \n",
    "    for i,line in enumerate(inputs):\n",
    "        line.sort(key=len)\n",
    "        unaccounted = []\n",
    "        N= {'1':line[0],'7':line[1],'4':line[2],'8':line[9]}\n",
    "        fives = [line[3],line[4],line[5]]\n",
    "        sixes = [line[6],line[7],line[8]]\n",
    "        \n",
    "        top = ''\n",
    "        middle = ''\n",
    "        lt = ''\n",
    "        rt = ''\n",
    "        rb = ''\n",
    "        \n",
    "        for l in N['1']:\n",
    "            rt +=l\n",
    "            rb +=l\n",
    "        for l in N['7']:\n",
    "            if l not in N['1']:\n",
    "                top = l\n",
    "        for l in N['4']:\n",
    "            if l not in rt and l not in rb:\n",
    "                lt += l\n",
    "                middle +=l\n",
    "        \n",
    "        for sig in sixes:\n",
    "            for l in rt:\n",
    "                if l not in sig:\n",
    "                    N['6'] = sig\n",
    "                    rt = l\n",
    "                    for l in rb:\n",
    "                        if l != rt:\n",
    "                            rb = l\n",
    "            for l in middle:\n",
    "                if l not in sig:\n",
    "                    N['0'] = sig\n",
    "                    middle = l\n",
    "                    for l in lt:\n",
    "                        if l != middle:\n",
    "                            lt = l\n",
    "        for sig in sixes:\n",
    "            if rt in sig and rb in sig and middle in sig:\n",
    "                N['9'] = sig\n",
    "        \n",
    "        for sig in fives:\n",
    "            if rt in sig and rb in sig:\n",
    "                N['3'] = sig\n",
    "            if lt in sig:\n",
    "                N['5'] = sig\n",
    "            if rb not in sig:\n",
    "                N['2'] = sig\n",
    "        \n",
    "        for n in N:\n",
    "            N[n] = sorted(N[n])\n",
    "\n",
    "        line_value = ''\n",
    "        for value in outputs[i]:\n",
    "            value = sorted(value)\n",
    "            for n in N:\n",
    "                if value == N[n]:\n",
    "                    line_value += n\n",
    "        total_value += int(line_value)\n",
    "    \n",
    "    return total_value"
   ]
  },
  {
   "cell_type": "code",
   "execution_count": 16,
   "metadata": {},
   "outputs": [
    {
     "data": {
      "text/plain": [
       "1091609"
      ]
     },
     "execution_count": 16,
     "metadata": {},
     "output_type": "execute_result"
    }
   ],
   "source": [
    "p2()"
   ]
  },
  {
   "cell_type": "code",
   "execution_count": null,
   "metadata": {},
   "outputs": [],
   "source": []
  },
  {
   "cell_type": "code",
   "execution_count": 54,
   "metadata": {},
   "outputs": [],
   "source": []
  },
  {
   "cell_type": "code",
   "execution_count": null,
   "metadata": {},
   "outputs": [],
   "source": []
  },
  {
   "cell_type": "code",
   "execution_count": null,
   "metadata": {},
   "outputs": [],
   "source": []
  }
 ],
 "metadata": {
  "kernelspec": {
   "display_name": "Python 3",
   "language": "python",
   "name": "python3"
  },
  "language_info": {
   "codemirror_mode": {
    "name": "ipython",
    "version": 3
   },
   "file_extension": ".py",
   "mimetype": "text/x-python",
   "name": "python",
   "nbconvert_exporter": "python",
   "pygments_lexer": "ipython3",
   "version": "3.8.2"
  }
 },
 "nbformat": 4,
 "nbformat_minor": 4
}
