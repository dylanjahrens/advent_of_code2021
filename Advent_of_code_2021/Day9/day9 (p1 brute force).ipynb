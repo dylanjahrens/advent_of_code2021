{
 "cells": [
  {
   "cell_type": "code",
   "execution_count": 43,
   "metadata": {},
   "outputs": [],
   "source": [
    "with open(\"day9_input.txt\", \"r\") as input_file:\n",
    "    file_lines = input_file.readlines()\n",
    "    input_list = [data.split() for data in file_lines]\n",
    "    hm = []\n",
    "    for l in input_list:\n",
    "        hm_line = []\n",
    "        for s in l:\n",
    "            for n in s:\n",
    "                hm_line.append(int(n))\n",
    "        hm.append(hm_line)\n",
    "\n",
    "test = [[2,1,9,9,9,4,3,2,1,0],[3,9,8,7,8,9,4,9,2,1],\n",
    "        [9,8,5,6,7,8,9,8,9,2],[8,7,6,7,8,9,6,7,8,9],[9,8,9,9,9,6,5,6,7,8]]\n",
    "\n",
    "#BASINS ORIGINATE AT LOW POINTS \n",
    "    #START WITH LOOPING OVER LOW POINTS\n",
    "#AT EACH LOW POINT, START A BASIN LIST\n",
    "#SURROUNDING NUMBERS ARE PART OF THE BASIN\n",
    "#FOR EACH SURROUNDING NUMBER IF A SURROUNDING NUMBER IS LOWER IT IS PART OF THE BASIN\n",
    "    #THIS CONTINUES TO LOOP FOR EACH NUMBER IN THE BASIN\n",
    "        \n",
    "def p1(data):\n",
    "    \n",
    "    low_points = []\n",
    "    \n",
    "    #top corners\n",
    "    if data[0][0] < data[0][1] and data[0][0] < data[1][0]:\n",
    "        low_points.append(data[0][0])\n",
    "    if data[0][-1] < data[0][-2] and data[0][-1] < data[1][-1]:\n",
    "        low_points.append(data[0][-1])\n",
    "    \n",
    "    #bottom corners\n",
    "    if data[-1][0] < data[-1][1] and data[-1][0] < data[-2][0]:\n",
    "        low_points.append(data[-1][0])\n",
    "    if data[-1][-1] < data[-1][-2] and data[-1][-1] < data[-2][-1]:\n",
    "        low_points.append(data[-1][-1])\n",
    "        \n",
    "    #top row\n",
    "    for i, n in enumerate(data[0][1:-1],1):\n",
    "        if n < data[0][i-1] and n < data[0][i+1] and n < data[1][i]:\n",
    "            low_points.append(n)\n",
    "            \n",
    "    #bottom row\n",
    "    for i, n in enumerate(data[-1][1:-1],1):\n",
    "        if n < data[-1][i-1] and n < data[-1][i+1] and n < data[-2][i]:\n",
    "            low_points.append(n)\n",
    "            \n",
    "    #left and right column\n",
    "    for i, line in enumerate(data[1:-1],1):\n",
    "        if line[0] < data[i-1][0] and line[0] < line[1] and line[0] < data[i+1][0]:\n",
    "            low_points.append(line[0])\n",
    "        if line[-1] < data[i-1][-1] and line[-1] < line[-2] and line[-1] < data[i+1][-1]:\n",
    "            low_points.append(line[-1])\n",
    "            \n",
    "    for li, line in enumerate(data[1:-1],1):\n",
    "        for ni, num in enumerate(line[1:-1],1):\n",
    "            if (num < line[ni-1] and num < line[ni+1] and\n",
    "                num < data[li-1][ni] and num < data[li+1][ni]):\n",
    "                low_points.append(num)\n",
    "                \n",
    "    print(low_points)\n",
    "    \n",
    "    #risk\n",
    "    return sum(low_points) + len(low_points)\n",
    "   "
   ]
  },
  {
   "cell_type": "code",
   "execution_count": 44,
   "metadata": {},
   "outputs": [
    {
     "name": "stdout",
     "output_type": "stream",
     "text": [
      "[0, 1, 5, 5]\n"
     ]
    },
    {
     "data": {
      "text/plain": [
       "15"
      ]
     },
     "execution_count": 44,
     "metadata": {},
     "output_type": "execute_result"
    }
   ],
   "source": [
    "p1(test)"
   ]
  },
  {
   "cell_type": "code",
   "execution_count": 45,
   "metadata": {},
   "outputs": [
    {
     "name": "stdout",
     "output_type": "stream",
     "text": [
      "[3, 1, 0, 0, 0, 0, 1, 1, 1, 0, 1, 0, 1, 1, 1, 1, 4, 2, 0, 1, 3, 0, 0, 1, 1, 0, 0, 2, 5, 1, 1, 5, 0, 2, 3, 3, 2, 4, 0, 5, 4, 1, 1, 6, 3, 0, 3, 1, 0, 1, 1, 0, 1, 3, 1, 1, 1, 1, 0, 0, 2, 4, 1, 0, 1, 3, 0, 0, 0, 1, 4, 5, 3, 0, 2, 1, 2, 1, 2, 0, 0, 2, 2, 0, 0, 1, 0, 0, 3, 0, 1, 0, 0, 1, 0, 1, 2, 1, 0, 0, 1, 1, 3, 1, 3, 0, 0, 1, 0, 0, 1, 3, 3, 1, 0, 1, 0, 2, 2, 0, 2, 0, 0, 1, 1, 1, 1, 2, 1, 1, 4, 2, 4, 4, 0, 2, 5, 0, 4, 0, 0, 4, 2, 1, 5, 0, 0, 1, 0, 0, 0, 1, 4, 0, 0, 4, 1, 2, 5, 0, 0, 2, 3, 5, 1, 1, 5, 3, 1, 0, 0, 4, 2, 3, 3, 3, 0, 0, 2, 2, 0, 1, 6, 0, 4, 2, 1, 0, 5, 1, 2, 1, 0, 0, 2, 1, 2, 2, 2, 4, 0, 6, 2, 0, 1, 0, 0, 1, 3, 0, 1, 0, 0, 0, 2, 0, 1, 3, 1, 2, 0, 3, 1, 1, 0, 0]\n"
     ]
    },
    {
     "data": {
      "text/plain": [
       "550"
      ]
     },
     "execution_count": 45,
     "metadata": {},
     "output_type": "execute_result"
    }
   ],
   "source": [
    "p1(hm)"
   ]
  },
  {
   "cell_type": "code",
   "execution_count": null,
   "metadata": {},
   "outputs": [],
   "source": []
  }
 ],
 "metadata": {
  "kernelspec": {
   "display_name": "Python 3",
   "language": "python",
   "name": "python3"
  },
  "language_info": {
   "codemirror_mode": {
    "name": "ipython",
    "version": 3
   },
   "file_extension": ".py",
   "mimetype": "text/x-python",
   "name": "python",
   "nbconvert_exporter": "python",
   "pygments_lexer": "ipython3",
   "version": "3.8.2"
  }
 },
 "nbformat": 4,
 "nbformat_minor": 4
}
