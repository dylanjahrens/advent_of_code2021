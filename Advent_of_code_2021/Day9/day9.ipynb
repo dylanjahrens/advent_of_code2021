{
 "cells": [
  {
   "cell_type": "code",
   "execution_count": 20,
   "metadata": {},
   "outputs": [],
   "source": [
    "from collections import deque\n",
    "with open(\"day9_input.txt\", \"r\") as input_file:\n",
    "    file_lines = input_file.readlines()\n",
    "    hm = []\n",
    "    for line in file_lines:\n",
    "        hm.append([int(x) for x in list(line.strip())])\n",
    "\n",
    "        test = [[2,1,9,9,9,4,3,2,1,0],[3,9,8,7,8,9,4,9,2,1],\n",
    "        [9,8,5,6,7,8,9,8,9,2],[8,7,6,7,8,9,6,7,8,9],[9,8,9,9,9,6,5,6,7,8]]\n",
    "\n",
    "def day9(g):\n",
    "    r = len(g)\n",
    "    c = len(g[0])\n",
    "    dr = [-1,0,1,0]\n",
    "    dc = [0,1,0,-1]\n",
    "    low_points = []\n",
    "    \n",
    "    for row in range(r):\n",
    "        for col in range(c):\n",
    "            ok = True\n",
    "            for d in range(4):\n",
    "                rr = row+dr[d]\n",
    "                cc = col+dc[d]\n",
    "                if 0<=rr<r and 0<=cc<c and g[rr][cc] <= g[row][col]:\n",
    "                    #checks all 4 surrounding points, if it has a surrounding\n",
    "                    #point in the graph and the surrounding point is less than\n",
    "                    #or == the point then the point is not a low point\n",
    "                    ok = False\n",
    "            if ok:\n",
    "                low_points.append(g[row][col])\n",
    "    risk = sum(low_points) + len(low_points)\n",
    "    print(risk)\n",
    "    \n",
    "    s = []\n",
    "    seen = set()\n",
    "    for row in range(r):\n",
    "        for col in range(c):\n",
    "            if (row,col) not in seen and g[row][col] !=9:\n",
    "                size = 0\n",
    "                Q = deque()\n",
    "                Q.append((row,col))\n",
    "                while Q:\n",
    "                    (row,col) = Q.popleft()\n",
    "                    if (row,col) in seen:\n",
    "                        continue\n",
    "                    seen.add((row,col))\n",
    "                    size +=1\n",
    "                    for d in range(4):\n",
    "                        rr = row+dr[d]\n",
    "                        cc = col+dc[d]\n",
    "                        if 0<=rr<r and 0<=cc<c and g[rr][cc] !=9:\n",
    "                            Q.append((rr,cc))\n",
    "                s.append(size)\n",
    "    s.sort()\n",
    "    print(s[-1]*s[-2]*s[-3])\n"
   ]
  },
  {
   "cell_type": "code",
   "execution_count": 21,
   "metadata": {},
   "outputs": [
    {
     "name": "stdout",
     "output_type": "stream",
     "text": [
      "550\n",
      "1100682\n"
     ]
    }
   ],
   "source": [
    "day9(hm)"
   ]
  },
  {
   "cell_type": "code",
   "execution_count": null,
   "metadata": {},
   "outputs": [],
   "source": []
  }
 ],
 "metadata": {
  "kernelspec": {
   "display_name": "Python 3",
   "language": "python",
   "name": "python3"
  },
  "language_info": {
   "codemirror_mode": {
    "name": "ipython",
    "version": 3
   },
   "file_extension": ".py",
   "mimetype": "text/x-python",
   "name": "python",
   "nbconvert_exporter": "python",
   "pygments_lexer": "ipython3",
   "version": "3.8.2"
  }
 },
 "nbformat": 4,
 "nbformat_minor": 4
}
