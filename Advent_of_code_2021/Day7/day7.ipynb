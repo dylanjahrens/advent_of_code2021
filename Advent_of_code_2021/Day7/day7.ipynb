{
 "cells": [
  {
   "cell_type": "code",
   "execution_count": 254,
   "metadata": {},
   "outputs": [],
   "source": [
    "import statistics\n",
    "import math\n",
    "\n",
    "with open(\"day7_input.txt\", \"r\") as input_file:\n",
    "    file_lines = input_file.readlines()\n",
    "    inp = [int(data) for data in file_lines[0].strip().split(',')]\n",
    "\n",
    "    test = [16,1,2,0,4,2,7,1,2,14]\n",
    "\n",
    "def fuels(data):\n",
    "    m = int(statistics.median(data))\n",
    "\n",
    "    \n",
    "    fuels = 0\n",
    "    \n",
    "    for n in data:\n",
    "        fuels += abs(n-m)\n",
    "    return fuels\n",
    "\n",
    "def fuels2(data):\n",
    "    avg_d = (sum(data) / len(data))\n",
    "    avg_h = math.ceil(avg_d)\n",
    "    avg_l = math.floor(avg_d)\n",
    "\n",
    "    fuels_h = 0\n",
    "    fuels_l = 0\n",
    "    #have to use the rounded up number of avg and rounded down number of avg ???\n",
    "    for n in data:\n",
    "        for i in range(1, abs(n-avg_h) +1):\n",
    "            fuels_h += i\n",
    "\n",
    "    for n in data:\n",
    "        for i in range(1, abs(n-avg_l) +1):\n",
    "            fuels_l += i\n",
    "            \n",
    "    print(fuels_h, fuels_l)\n",
    "    if fuels_h < fuels_l:\n",
    "        return fuels_h\n",
    "    else: return fuels_l\n",
    "    \n"
   ]
  },
  {
   "cell_type": "code",
   "execution_count": 255,
   "metadata": {},
   "outputs": [
    {
     "data": {
      "text/plain": [
       "342641"
      ]
     },
     "execution_count": 255,
     "metadata": {},
     "output_type": "execute_result"
    }
   ],
   "source": [
    "fuels(inp)"
   ]
  },
  {
   "cell_type": "code",
   "execution_count": 256,
   "metadata": {},
   "outputs": [
    {
     "name": "stdout",
     "output_type": "stream",
     "text": [
      "168 170\n"
     ]
    },
    {
     "data": {
      "text/plain": [
       "168"
      ]
     },
     "execution_count": 256,
     "metadata": {},
     "output_type": "execute_result"
    }
   ],
   "source": [
    "fuels2(test)"
   ]
  },
  {
   "cell_type": "code",
   "execution_count": null,
   "metadata": {},
   "outputs": [],
   "source": []
  },
  {
   "cell_type": "code",
   "execution_count": null,
   "metadata": {},
   "outputs": [],
   "source": []
  },
  {
   "cell_type": "code",
   "execution_count": null,
   "metadata": {},
   "outputs": [],
   "source": []
  }
 ],
 "metadata": {
  "kernelspec": {
   "display_name": "Python 3",
   "language": "python",
   "name": "python3"
  },
  "language_info": {
   "codemirror_mode": {
    "name": "ipython",
    "version": 3
   },
   "file_extension": ".py",
   "mimetype": "text/x-python",
   "name": "python",
   "nbconvert_exporter": "python",
   "pygments_lexer": "ipython3",
   "version": "3.8.2"
  }
 },
 "nbformat": 4,
 "nbformat_minor": 4
}
