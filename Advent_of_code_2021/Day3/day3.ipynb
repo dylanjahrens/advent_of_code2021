{
 "cells": [
  {
   "cell_type": "code",
   "execution_count": 197,
   "metadata": {},
   "outputs": [],
   "source": [
    "with open(\"day3_input.txt\", \"r\") as input_file:\n",
    "    file_lines = input_file.readlines()\n",
    "    input_list = [line.strip() for line in file_lines]\n",
    "    \n",
    "def day3_1():\n",
    "    \n",
    "    g = ''\n",
    "    e = ''\n",
    "    index = 0\n",
    "    \n",
    "    while index < len(input_list[0]):\n",
    "        g0 = 0\n",
    "        g1 = 0\n",
    "        for inp in input_list:\n",
    "            if inp[index] == '0':\n",
    "                g0 +=1\n",
    "            else:\n",
    "                g1 +=1\n",
    "        if g0 > g1:\n",
    "            g += '0'\n",
    "            e += '1'\n",
    "        else:\n",
    "            g += '1'\n",
    "            e += '0'\n",
    "        index +=1\n",
    "        g0 = 0\n",
    "        g1 = 0\n",
    "    \n",
    "    g_dec = int(g,2)\n",
    "    e_dec = int(e,2)\n",
    "    \n",
    "    power_consumption = g_dec * e_dec\n",
    "    \n",
    "    return power_consumption\n",
    "\n",
    "def day3_2():\n",
    "    \n",
    "    ogr = input_list\n",
    "    co2 = input_list\n",
    "    ogr_index = 0\n",
    "    co2_index = 0\n",
    "\n",
    "    while len(ogr) > 1:\n",
    "        ogr1 = 0\n",
    "        ogr0 = 0\n",
    "        for inp in ogr:\n",
    "            if inp[ogr_index] == '1':\n",
    "                ogr1+=1\n",
    "            else:\n",
    "                ogr0+=1\n",
    "        if ogr1 >= ogr0:\n",
    "            ogr = [inp for inp in ogr if inp[ogr_index] == '1']\n",
    "        else:\n",
    "            ogr = [inp for inp in ogr if inp[ogr_index] == '0']\n",
    "        ogr_index +=1\n",
    "        ogr1 = 0\n",
    "        ogr0 = 0\n",
    "    \n",
    "    while len(co2) > 1:\n",
    "        co21 = 0\n",
    "        co20 = 0\n",
    "        for inp in co2:\n",
    "            if inp[co2_index] == '1':\n",
    "                co21+=1\n",
    "            else:\n",
    "                co20+=1\n",
    "        if co20 <= co21:\n",
    "            co2 = [inp for inp in co2 if inp[co2_index] == '0']\n",
    "        else:\n",
    "            co2 = [inp for inp in co2 if inp[co2_index] == '1']\n",
    "        co2_index +=1\n",
    "        co21 = 0\n",
    "        co20 = 0\n",
    "    \n",
    "    ogr_str = ''\n",
    "    co2_str = ''\n",
    "    for n in ogr:\n",
    "        ogr_str +=n\n",
    "    for n in co2:\n",
    "        co2_str +=n\n",
    "   \n",
    "    ogr_dec = int(ogr_str,2)\n",
    "    co2_dec = int(co2_str,2)\n",
    "    \n",
    "    lsr = ogr_dec * co2_dec\n",
    "    \n",
    "    return lsr"
   ]
  },
  {
   "cell_type": "code",
   "execution_count": 198,
   "metadata": {},
   "outputs": [
    {
     "data": {
      "text/plain": [
       "2261546"
      ]
     },
     "execution_count": 198,
     "metadata": {},
     "output_type": "execute_result"
    }
   ],
   "source": [
    "day3_1()"
   ]
  },
  {
   "cell_type": "code",
   "execution_count": 199,
   "metadata": {},
   "outputs": [
    {
     "data": {
      "text/plain": [
       "6775520"
      ]
     },
     "execution_count": 199,
     "metadata": {},
     "output_type": "execute_result"
    }
   ],
   "source": [
    "day3_2()"
   ]
  },
  {
   "cell_type": "code",
   "execution_count": null,
   "metadata": {},
   "outputs": [],
   "source": []
  },
  {
   "cell_type": "code",
   "execution_count": null,
   "metadata": {},
   "outputs": [],
   "source": []
  }
 ],
 "metadata": {
  "kernelspec": {
   "display_name": "Python 3",
   "language": "python",
   "name": "python3"
  },
  "language_info": {
   "codemirror_mode": {
    "name": "ipython",
    "version": 3
   },
   "file_extension": ".py",
   "mimetype": "text/x-python",
   "name": "python",
   "nbconvert_exporter": "python",
   "pygments_lexer": "ipython3",
   "version": "3.8.2"
  }
 },
 "nbformat": 4,
 "nbformat_minor": 4
}
