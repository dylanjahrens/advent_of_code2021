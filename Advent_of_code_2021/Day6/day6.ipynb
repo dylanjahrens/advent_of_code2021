{
 "cells": [
  {
   "cell_type": "code",
   "execution_count": null,
   "metadata": {},
   "outputs": [],
   "source": [
    "#Each day, a 0 becomes a 6 and adds a new 8 to the end of the list, \n",
    "#while each other number decreases by 1 if it was present at the start of the day."
   ]
  },
  {
   "cell_type": "code",
   "execution_count": 152,
   "metadata": {},
   "outputs": [],
   "source": [
    "def day6():\n",
    "    with open(\"day6_input.txt\", \"r\") as input_file:\n",
    "        file_lines = input_file.readlines()\n",
    "        input_list = [line.strip() for line in file_lines[0]]\n",
    "        input_list = [int(n) for n in input_list if n.isalnum()]\n",
    "\n",
    "    for day in range(80):\n",
    "        for i,f in enumerate(input_list):\n",
    "             #input_list = [i+6 and input_list.append(8) if i==0 else i-1 for i in input_list]\n",
    "            if f == 0:\n",
    "                input_list[i] = 6\n",
    "                input_list.append(9)\n",
    "            else:\n",
    "                input_list[i] -=1\n",
    "    print(len(input_list)) \n"
   ]
  },
  {
   "cell_type": "code",
   "execution_count": 153,
   "metadata": {},
   "outputs": [
    {
     "name": "stdout",
     "output_type": "stream",
     "text": [
      "350605\n"
     ]
    }
   ],
   "source": [
    "day6()"
   ]
  },
  {
   "cell_type": "code",
   "execution_count": 161,
   "metadata": {},
   "outputs": [],
   "source": [
    "from collections import defaultdict\n",
    "\n",
    "def day6_2(days):\n",
    "    with open(\"day6_input.txt\", \"r\") as input_file:\n",
    "        file_lines = input_file.readlines()\n",
    "        input_list = [line.strip() for line in file_lines[0]]\n",
    "        input_list = [int(n) for n in input_list if n.isalnum()]\n",
    "\n",
    "    X = defaultdict(int)\n",
    "    for n in input_list:\n",
    "        if n not in X:\n",
    "            X[n] = 0\n",
    "        X[n] += 1 #each number in inp starting counter\n",
    "    \n",
    "    for day in range(days):\n",
    "        Y = defaultdict(int)\n",
    "        for fish,count in X.items(): #fish is int and count is count of that fish\n",
    "            if fish == 0:\n",
    "                Y[6] +=count\n",
    "                Y[8] +=count\n",
    "            else:\n",
    "                Y[fish-1] += count\n",
    "        X = Y\n",
    "    \n",
    "    return sum(X.values())"
   ]
  },
  {
   "cell_type": "code",
   "execution_count": 162,
   "metadata": {},
   "outputs": [
    {
     "data": {
      "text/plain": [
       "1592778185024"
      ]
     },
     "execution_count": 162,
     "metadata": {},
     "output_type": "execute_result"
    }
   ],
   "source": [
    "day6_2(256)"
   ]
  },
  {
   "cell_type": "code",
   "execution_count": null,
   "metadata": {},
   "outputs": [],
   "source": []
  }
 ],
 "metadata": {
  "kernelspec": {
   "display_name": "Python 3",
   "language": "python",
   "name": "python3"
  },
  "language_info": {
   "codemirror_mode": {
    "name": "ipython",
    "version": 3
   },
   "file_extension": ".py",
   "mimetype": "text/x-python",
   "name": "python",
   "nbconvert_exporter": "python",
   "pygments_lexer": "ipython3",
   "version": "3.8.2"
  }
 },
 "nbformat": 4,
 "nbformat_minor": 4
}
