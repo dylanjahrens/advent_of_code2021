{
 "cells": [
  {
   "cell_type": "code",
   "execution_count": 19,
   "metadata": {},
   "outputs": [],
   "source": [
    "def day5():\n",
    "    with open(\"day5_input.txt\", \"r\") as input_file:\n",
    "        file_lines = input_file.readlines()\n",
    "        input_list = [line.strip() for line in file_lines]\n",
    "    \n",
    "    g = {}\n",
    "    \n",
    "    for line in input_list:\n",
    "        start,end = line.split('->')\n",
    "        x1,y1 = start.split(',')\n",
    "        x2,y2 = end.split(',')\n",
    "        x1= int(x1.strip())\n",
    "        y1= int(y1.strip())\n",
    "        x2= int(x2.strip())\n",
    "        y2= int(y2.strip())\n",
    "        x1,x2 = min(x1,x2), max(x1,x2)\n",
    "        y1,y2 = min(y1,y2), max(y1,y2)\n",
    "        if x1==x2 or y1==y2: #if horizontal OR vertical\n",
    "            #print(x1,y1,x2,y2)\n",
    "            for x in range(x1,x2+1):\n",
    "                for y in range(y1,y2+1):\n",
    "                    if (x,y) not in g:\n",
    "                        g[(x,y)] = 0\n",
    "                    g[x,y] +=1\n",
    "    \n",
    "    ans = 0\n",
    "    for k in g:\n",
    "        if g[k] >1:\n",
    "            #print(k,g[k])\n",
    "            ans +=1\n",
    "    print(ans)\n",
    "                    \n",
    "    "
   ]
  },
  {
   "cell_type": "code",
   "execution_count": 20,
   "metadata": {},
   "outputs": [
    {
     "name": "stdout",
     "output_type": "stream",
     "text": [
      "4655\n"
     ]
    }
   ],
   "source": [
    "day5()"
   ]
  },
  {
   "cell_type": "code",
   "execution_count": 30,
   "metadata": {},
   "outputs": [],
   "source": [
    "def day5_2():\n",
    "    with open(\"day5_input.txt\", \"r\") as input_file:\n",
    "        file_lines = input_file.readlines()\n",
    "        input_list = [line.strip() for line in file_lines]\n",
    "    \n",
    "    g1 = {}\n",
    "    g2 = {}\n",
    "    #can import defaultdict from collections to make all keys have\n",
    "    #value of 0 then dont have to assign 1 later, then add 1\n",
    "    \n",
    "    for line in input_list:\n",
    "        start,end = line.split('->')\n",
    "        x1,y1 = start.split(',')\n",
    "        x2,y2 = end.split(',')\n",
    "        x1= int(x1.strip())\n",
    "        y1= int(y1.strip())\n",
    "        x2= int(x2.strip())\n",
    "        y2= int(y2.strip())\n",
    "        \n",
    "        dx = x2-x1\n",
    "        dy = y2-y1\n",
    "        \n",
    "        for i in range(1+max(abs(dx),abs(dy))):\n",
    "            x = x1+(1 if dx>0 else (-1 if dx<0 else 0))*i\n",
    "            y = y1+(1 if dy>0 else (-1 if dy<0 else 0))*i\n",
    "            if dx==0 or dy==0: #part 1, horizontal or vertical\n",
    "                if (x,y) not in g1:\n",
    "                    g1[(x,y)] = 1\n",
    "                else: \n",
    "                    g1[x,y] +=1\n",
    "            if (x,y) not in g2:\n",
    "                    g2[(x,y)] = 1\n",
    "            else:\n",
    "                g2[x,y] +=1\n",
    "    print(len([k for k in g1 if g1[k]>1]))\n",
    "    print(len([k for k in g2 if g2[k]>1]))"
   ]
  },
  {
   "cell_type": "code",
   "execution_count": 31,
   "metadata": {},
   "outputs": [
    {
     "name": "stdout",
     "output_type": "stream",
     "text": [
      "4655\n",
      "20500\n"
     ]
    }
   ],
   "source": [
    "day5_2()"
   ]
  },
  {
   "cell_type": "code",
   "execution_count": null,
   "metadata": {},
   "outputs": [],
   "source": []
  }
 ],
 "metadata": {
  "kernelspec": {
   "display_name": "Python 3",
   "language": "python",
   "name": "python3"
  },
  "language_info": {
   "codemirror_mode": {
    "name": "ipython",
    "version": 3
   },
   "file_extension": ".py",
   "mimetype": "text/x-python",
   "name": "python",
   "nbconvert_exporter": "python",
   "pygments_lexer": "ipython3",
   "version": "3.8.2"
  }
 },
 "nbformat": 4,
 "nbformat_minor": 4
}
