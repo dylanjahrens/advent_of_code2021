{
 "cells": [
  {
   "cell_type": "code",
   "execution_count": 51,
   "metadata": {},
   "outputs": [],
   "source": [
    "def day5_1():\n",
    "    with open(\"day5_input.txt\", \"r\") as input_file:\n",
    "        file_lines = input_file.readlines()\n",
    "        input_list = [line.strip() for line in file_lines]\n",
    "        input_list = [data.split(' -> ') for data in input_list]  \n",
    "\n",
    "    string_data = []\n",
    "    for inp in input_list:\n",
    "        inp = [s.split(',') for s in inp]\n",
    "        string_data.append(inp)\n",
    "\n",
    "    data = [] #making data into ints\n",
    "    for inp in string_data:\n",
    "        coordinate = []\n",
    "        for coord in inp:\n",
    "            coord = [int(i) for i in coord]\n",
    "            coordinate.append(coord)\n",
    "        data.append(coordinate)\n",
    "\n",
    "    # data[0] = [['976', '35'], ['24', '987']] , SET OF x1,y1 -> x2,y2\n",
    "    # data[0][0] = ['976', '35'] , SET OF x1,y1\n",
    "    # data[0][0][0] = 976 , SINGLE COORDINATE, x1\n",
    "    \n",
    "    horizontal = []\n",
    "    vertical = []\n",
    "    for coord in data:\n",
    "        if coord[0][0] == coord[1][0]:\n",
    "            vertical.append(coord)\n",
    "        elif coord[0][1] == coord[1][1]:\n",
    "            horizontal.append(coord)\n",
    "            \n",
    "    print(horizontal[:3])\n",
    "    print(vertical[:3])\n",
    "    array = [['*']*1000]*1000\n",
    "\n",
    "    for line in horizontal:\n",
    "        y = line[0][1]\n",
    "        if line[0][0] < line[1][0]:\n",
    "            for x in range(line[0][0],line[1][0] +1):\n",
    "                if array[y][x] == '*':   \n",
    "                    array[y][x] = 1\n",
    "                elif array[y][x] == 1:\n",
    "                    array[y][x] = 2\n",
    "                    \n",
    "        else:\n",
    "            for x in range(line[1][0],line[0][0] +1):\n",
    "                if array[y][x] == '*':   \n",
    "                    array[y][x] = 1\n",
    "                elif array[y][x] == 1:\n",
    "                    array[y][x] = 2\n",
    "                \n",
    "    for line in vertical:\n",
    "        x = line[0][0]\n",
    "        if line[1][0] < line[1][1]:\n",
    "            for y in range(line[0][1],line[1][1] +1):\n",
    "                if array[y][x] == '*':   \n",
    "                    array[y][x] = 1\n",
    "                elif array[y][x] == 1:\n",
    "                    array[y][x] = 2\n",
    "        else:\n",
    "            for y in range(line[1][1],line[0][1] +1):\n",
    "                if array[y][x] == '*':   \n",
    "                    array[y][x] = 1\n",
    "                elif array[y][x] == 1:\n",
    "                    array[y][x] = 2\n",
    "    \n",
    "    counter = 0\n",
    "    for y in array:\n",
    "        for x in y:\n",
    "            if x == 2:\n",
    "                counter +=1\n",
    "    return counter\n"
   ]
  },
  {
   "cell_type": "code",
   "execution_count": 52,
   "metadata": {},
   "outputs": [
    {
     "name": "stdout",
     "output_type": "stream",
     "text": [
      "[[[614, 575], [746, 575]], [[97, 846], [441, 846]], [[467, 680], [767, 680]]]\n",
      "[[[580, 460], [580, 749]], [[722, 860], [722, 98]], [[31, 338], [31, 581]]]\n"
     ]
    },
    {
     "data": {
      "text/plain": [
       "973000"
      ]
     },
     "execution_count": 52,
     "metadata": {},
     "output_type": "execute_result"
    }
   ],
   "source": [
    "day5_1()"
   ]
  },
  {
   "cell_type": "code",
   "execution_count": null,
   "metadata": {},
   "outputs": [],
   "source": []
  },
  {
   "cell_type": "code",
   "execution_count": null,
   "metadata": {},
   "outputs": [],
   "source": []
  },
  {
   "cell_type": "code",
   "execution_count": null,
   "metadata": {},
   "outputs": [],
   "source": [
    " '''\n",
    "    h_lines = []\n",
    "    for line in horizontal:\n",
    "        y = line[0][1]\n",
    "        x = []\n",
    "        if line[0][0] < line[1][0]:\n",
    "            for n in range(line[0][0],line[1][0] +1):\n",
    "                x.append(n)\n",
    "        else:\n",
    "            for n in range(line[1][0],line[0][0] +1):\n",
    "                x.append(n)\n",
    "        for n in x:\n",
    "            h_lines.append([n,y])\n",
    "            \n",
    "    v_lines = []\n",
    "    for line in vertical:\n",
    "        x = line[0][0]\n",
    "        y = []\n",
    "        if line[1][0] < line[1][1]:\n",
    "            for n in range(line[0][1],line[1][1] +1):\n",
    "                y.append(n)\n",
    "        else:\n",
    "            for n in range(line[1][1],line[0][1] +1):\n",
    "                y.append(n)\n",
    "        for n in y:\n",
    "            v_lines.append([x,n])\n",
    "\n",
    "    v_lines = []\n",
    "    #v_lines is [x coord, y min coord, y max coord +1]\n",
    "    for line in vertical:\n",
    "        x = line[0][0]\n",
    "        if line[0][1] < line[1][1]:\n",
    "            y_min = line[0][1]\n",
    "            y_max = line[1][1]\n",
    "        else:\n",
    "            y_min = line[1][1]\n",
    "            y_max = line[0][1]\n",
    "        v_lines.append([x,y_min,y_max])\n",
    "        \n",
    "    duplicates = 0\n",
    "    for a in h_lines:\n",
    "        for b in v_lines:\n",
    "            if a[0] == b[0] and a[1] in range(b[1],b[2]+1):\n",
    "                print(f'{a[0]}={b[0]} and {a[1]} in {b[1]}-{b[2]}')\n",
    "                duplicates += 1\n",
    "    return duplicates\n",
    "    '''"
   ]
  }
 ],
 "metadata": {
  "kernelspec": {
   "display_name": "Python 3",
   "language": "python",
   "name": "python3"
  },
  "language_info": {
   "codemirror_mode": {
    "name": "ipython",
    "version": 3
   },
   "file_extension": ".py",
   "mimetype": "text/x-python",
   "name": "python",
   "nbconvert_exporter": "python",
   "pygments_lexer": "ipython3",
   "version": "3.8.2"
  }
 },
 "nbformat": 4,
 "nbformat_minor": 4
}
